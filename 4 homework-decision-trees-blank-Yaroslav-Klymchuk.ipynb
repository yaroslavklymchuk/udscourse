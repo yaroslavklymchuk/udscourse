{
 "cells": [
  {
   "cell_type": "markdown",
   "metadata": {},
   "source": [
    "# Lecture 4: Homework"
   ]
  },
  {
   "cell_type": "markdown",
   "metadata": {},
   "source": [
    "Today we gonna learn how to choose between ML models, based on data type. Your task would be to predict the edibility of a mushroom based on sample descriptions (binary classification problem)\n",
    "The tricky part here is that 95% of the features are of categorical type. \n",
    "That's the one where we would (usually) prefer tree-based algorithms over linear methods\n",
    "Although this dataset was originally contributed to the UCI Machine Learning repository nearly 30 years ago, mushroom hunting (otherwise known as \"shrooming\") is enjoying new peaks in popularity. Learn which features spell certain death and which are most palatable in this dataset of mushroom characteristics. And how certain can your model be?\n",
    "This dataset includes descriptions of hypothetical samples corresponding to 23 species of gilled mushrooms in the Agaricus and Lepiota Family Mushroom drawn from The Audubon Society Field Guide to North American Mushrooms (1981). Each species is identified as definitely edible, definitely poisonous, or of unknown edibility and not recommended. This latter class was combined with the poisonous one. The Guide clearly states that there is no simple rule for determining the edibility of a mushroom; no rule like \"leaflets three, let it be'' for Poisonous Oak and Ivy.\n",
    "More information can be found here\n",
    "Please find below correspondent google form to submit your answers"
   ]
  },
  {
   "cell_type": "code",
   "execution_count": 38,
   "metadata": {},
   "outputs": [],
   "source": [
    "# library import\n",
    "import pandas as pd\n",
    "import numpy as np\n",
    "from os.path import join as pjoin\n",
    "pd.options.display.max_columns = 50\n",
    "pd.options.display.max_colwidth = 100\n",
    "\n",
    "# preprocessing / validation\n",
    "from sklearn.preprocessing import LabelEncoder, OneHotEncoder\n",
    "from sklearn.model_selection import (\n",
    "    train_test_split, StratifiedKFold, cross_val_score, GridSearchCV\n",
    ")\n",
    "# ML models\n",
    "from sklearn.tree import DecisionTreeClassifier\n",
    "from sklearn.linear_model import LogisticRegression\n",
    "\n",
    "# metrics\n",
    "from sklearn.metrics import classification_report, f1_score"
   ]
  },
  {
   "cell_type": "code",
   "execution_count": 39,
   "metadata": {},
   "outputs": [
    {
     "name": "stdout",
     "output_type": "stream",
     "text": [
      "(6499, 23) (1625, 22)\n"
     ]
    }
   ],
   "source": [
    "# read data\n",
    "DATA_DIR = 'E:\\\\PycharmProjects\\\\Machine_L\\\\Data_Science_Club\\\\third_'\n",
    "df_train = pd.read_csv(pjoin(DATA_DIR, '4-mushrooms-train.csv'), engine='c')\n",
    "df_test = pd.read_csv(pjoin(DATA_DIR, '4-mushrooms-test.csv'), engine='c')\n",
    "print(df_train.shape, df_test.shape)"
   ]
  },
  {
   "cell_type": "code",
   "execution_count": 40,
   "metadata": {},
   "outputs": [
    {
     "data": {
      "text/html": [
       "<div>\n",
       "<style scoped>\n",
       "    .dataframe tbody tr th:only-of-type {\n",
       "        vertical-align: middle;\n",
       "    }\n",
       "\n",
       "    .dataframe tbody tr th {\n",
       "        vertical-align: top;\n",
       "    }\n",
       "\n",
       "    .dataframe thead th {\n",
       "        text-align: right;\n",
       "    }\n",
       "</style>\n",
       "<table border=\"1\" class=\"dataframe\">\n",
       "  <thead>\n",
       "    <tr style=\"text-align: right;\">\n",
       "      <th></th>\n",
       "      <th>target</th>\n",
       "      <th>cap_shape</th>\n",
       "      <th>cap_surface</th>\n",
       "      <th>cap_color</th>\n",
       "      <th>bruises</th>\n",
       "      <th>odor</th>\n",
       "      <th>gill_attachment</th>\n",
       "      <th>gill_spacing</th>\n",
       "      <th>gill_size</th>\n",
       "      <th>gill_color</th>\n",
       "      <th>stalk_shape</th>\n",
       "      <th>stalk_root</th>\n",
       "      <th>stalk_surface_above_ring</th>\n",
       "      <th>stalk_surface_below_ring</th>\n",
       "      <th>stalk_color_above_ring</th>\n",
       "      <th>stalk_color_below_ring</th>\n",
       "      <th>veil_type</th>\n",
       "      <th>veil_color</th>\n",
       "      <th>ring_number</th>\n",
       "      <th>ring_type</th>\n",
       "      <th>spore_print_color</th>\n",
       "      <th>population</th>\n",
       "      <th>habitat</th>\n",
       "    </tr>\n",
       "  </thead>\n",
       "  <tbody>\n",
       "    <tr>\n",
       "      <th>0</th>\n",
       "      <td>0</td>\n",
       "      <td>convex</td>\n",
       "      <td>scaly</td>\n",
       "      <td>brown</td>\n",
       "      <td>bruises</td>\n",
       "      <td>pungent</td>\n",
       "      <td>free</td>\n",
       "      <td>close</td>\n",
       "      <td>narrow</td>\n",
       "      <td>white</td>\n",
       "      <td>enlarging</td>\n",
       "      <td>equal</td>\n",
       "      <td>smooth</td>\n",
       "      <td>smooth</td>\n",
       "      <td>white</td>\n",
       "      <td>white</td>\n",
       "      <td>partial</td>\n",
       "      <td>white</td>\n",
       "      <td>one</td>\n",
       "      <td>pendant</td>\n",
       "      <td>brown</td>\n",
       "      <td>scattered</td>\n",
       "      <td>urban</td>\n",
       "    </tr>\n",
       "    <tr>\n",
       "      <th>1</th>\n",
       "      <td>1</td>\n",
       "      <td>flat</td>\n",
       "      <td>fibrous</td>\n",
       "      <td>gray</td>\n",
       "      <td>bruises</td>\n",
       "      <td>none</td>\n",
       "      <td>free</td>\n",
       "      <td>close</td>\n",
       "      <td>broad</td>\n",
       "      <td>brown</td>\n",
       "      <td>tapering</td>\n",
       "      <td>bulbous</td>\n",
       "      <td>smooth</td>\n",
       "      <td>smooth</td>\n",
       "      <td>white</td>\n",
       "      <td>white</td>\n",
       "      <td>partial</td>\n",
       "      <td>white</td>\n",
       "      <td>one</td>\n",
       "      <td>pendant</td>\n",
       "      <td>brown</td>\n",
       "      <td>several</td>\n",
       "      <td>woods</td>\n",
       "    </tr>\n",
       "    <tr>\n",
       "      <th>2</th>\n",
       "      <td>0</td>\n",
       "      <td>flat</td>\n",
       "      <td>smooth</td>\n",
       "      <td>brown</td>\n",
       "      <td>no</td>\n",
       "      <td>none</td>\n",
       "      <td>attached</td>\n",
       "      <td>close</td>\n",
       "      <td>broad</td>\n",
       "      <td>orange</td>\n",
       "      <td>enlarging</td>\n",
       "      <td>missing</td>\n",
       "      <td>smooth</td>\n",
       "      <td>smooth</td>\n",
       "      <td>orange</td>\n",
       "      <td>orange</td>\n",
       "      <td>partial</td>\n",
       "      <td>orange</td>\n",
       "      <td>one</td>\n",
       "      <td>pendant</td>\n",
       "      <td>brown</td>\n",
       "      <td>several</td>\n",
       "      <td>leaves</td>\n",
       "    </tr>\n",
       "    <tr>\n",
       "      <th>3</th>\n",
       "      <td>1</td>\n",
       "      <td>convex</td>\n",
       "      <td>fibrous</td>\n",
       "      <td>gray</td>\n",
       "      <td>bruises</td>\n",
       "      <td>none</td>\n",
       "      <td>free</td>\n",
       "      <td>close</td>\n",
       "      <td>broad</td>\n",
       "      <td>brown</td>\n",
       "      <td>tapering</td>\n",
       "      <td>bulbous</td>\n",
       "      <td>smooth</td>\n",
       "      <td>smooth</td>\n",
       "      <td>white</td>\n",
       "      <td>white</td>\n",
       "      <td>partial</td>\n",
       "      <td>white</td>\n",
       "      <td>one</td>\n",
       "      <td>pendant</td>\n",
       "      <td>black</td>\n",
       "      <td>solitary</td>\n",
       "      <td>woods</td>\n",
       "    </tr>\n",
       "    <tr>\n",
       "      <th>4</th>\n",
       "      <td>0</td>\n",
       "      <td>knobbed</td>\n",
       "      <td>smooth</td>\n",
       "      <td>brown</td>\n",
       "      <td>no</td>\n",
       "      <td>foul</td>\n",
       "      <td>free</td>\n",
       "      <td>close</td>\n",
       "      <td>narrow</td>\n",
       "      <td>buff</td>\n",
       "      <td>tapering</td>\n",
       "      <td>missing</td>\n",
       "      <td>silky</td>\n",
       "      <td>smooth</td>\n",
       "      <td>pink</td>\n",
       "      <td>pink</td>\n",
       "      <td>partial</td>\n",
       "      <td>white</td>\n",
       "      <td>one</td>\n",
       "      <td>evanescent</td>\n",
       "      <td>white</td>\n",
       "      <td>several</td>\n",
       "      <td>paths</td>\n",
       "    </tr>\n",
       "  </tbody>\n",
       "</table>\n",
       "</div>"
      ],
      "text/plain": [
       "   target cap_shape cap_surface cap_color  bruises     odor gill_attachment  \\\n",
       "0       0    convex       scaly     brown  bruises  pungent            free   \n",
       "1       1      flat     fibrous      gray  bruises     none            free   \n",
       "2       0      flat      smooth     brown       no     none        attached   \n",
       "3       1    convex     fibrous      gray  bruises     none            free   \n",
       "4       0   knobbed      smooth     brown       no     foul            free   \n",
       "\n",
       "  gill_spacing gill_size gill_color stalk_shape stalk_root  \\\n",
       "0        close    narrow      white   enlarging      equal   \n",
       "1        close     broad      brown    tapering    bulbous   \n",
       "2        close     broad     orange   enlarging    missing   \n",
       "3        close     broad      brown    tapering    bulbous   \n",
       "4        close    narrow       buff    tapering    missing   \n",
       "\n",
       "  stalk_surface_above_ring stalk_surface_below_ring stalk_color_above_ring  \\\n",
       "0                   smooth                   smooth                  white   \n",
       "1                   smooth                   smooth                  white   \n",
       "2                   smooth                   smooth                 orange   \n",
       "3                   smooth                   smooth                  white   \n",
       "4                    silky                   smooth                   pink   \n",
       "\n",
       "  stalk_color_below_ring veil_type veil_color ring_number   ring_type  \\\n",
       "0                  white   partial      white         one     pendant   \n",
       "1                  white   partial      white         one     pendant   \n",
       "2                 orange   partial     orange         one     pendant   \n",
       "3                  white   partial      white         one     pendant   \n",
       "4                   pink   partial      white         one  evanescent   \n",
       "\n",
       "  spore_print_color population habitat  \n",
       "0             brown  scattered   urban  \n",
       "1             brown    several   woods  \n",
       "2             brown    several  leaves  \n",
       "3             black   solitary   woods  \n",
       "4             white    several   paths  "
      ]
     },
     "execution_count": 40,
     "metadata": {},
     "output_type": "execute_result"
    }
   ],
   "source": [
    "# let's see what data looks like\n",
    "df_train.head()"
   ]
  },
  {
   "cell_type": "code",
   "execution_count": 41,
   "metadata": {},
   "outputs": [
    {
     "name": "stdout",
     "output_type": "stream",
     "text": [
      "(8124, 24)\n"
     ]
    },
    {
     "data": {
      "text/plain": [
       "True     6499\n",
       "False    1625\n",
       "Name: is_train, dtype: int64"
      ]
     },
     "execution_count": 41,
     "metadata": {},
     "output_type": "execute_result"
    }
   ],
   "source": [
    "# for convenient calculations, let us merge train with test\n",
    "df = pd.concat([df_train, df_test], axis=0)\n",
    "# add column for filtering train/test\n",
    "df['is_train'] = True\n",
    "df.loc[df.target.isnull(), 'is_train'] = False\n",
    "# check shapes\n",
    "print(df.shape)\n",
    "# check labels\n",
    "df.is_train.value_counts()"
   ]
  },
  {
   "cell_type": "markdown",
   "metadata": {},
   "source": [
    "# Task 1. Which feature has the highest amount of unique values? (joint dataset)"
   ]
  },
  {
   "cell_type": "code",
   "execution_count": 42,
   "metadata": {},
   "outputs": [
    {
     "name": "stdout",
     "output_type": "stream",
     "text": [
      "gill_color\n"
     ]
    }
   ],
   "source": [
    "# your code goes here\n",
    "# ---------------------------------------------------------------\n",
    "most_diversive = df.columns[pd.Series([len(df[elem].value_counts()) for elem in df.columns]).idxmax()]\n",
    "# ---------------------------------------------------------------\n",
    "\n",
    "print(most_diversive)"
   ]
  },
  {
   "cell_type": "markdown",
   "metadata": {},
   "source": [
    "# Task 2\n",
    "As a preparation, one would spend up to 15-30 minutes on exploratory data analysis (EDA) - make sure you understand how features are distributed in train/test, what they look like, are they ordinal/binary/categorical before moving further \n",
    "While doing it, please answer the questions"
   ]
  },
  {
   "cell_type": "markdown",
   "metadata": {},
   "source": [
    "2.1 Are there any features, obviously redundant to train on? If yes - what are they and why it's better to remove them?\n"
   ]
  },
  {
   "cell_type": "code",
   "execution_count": 43,
   "metadata": {},
   "outputs": [
    {
     "name": "stdout",
     "output_type": "stream",
     "text": [
      "(8124, 24)\n",
      "(8124, 23)\n"
     ]
    }
   ],
   "source": [
    "print(df.shape)\n",
    "# your code/hardcoded list goes here\n",
    "# ---------------------------------------------------------------\n",
    "redundant_columns = ['veil_type']\n",
    "# ---------------------------------------------------------------\n",
    "# lets drop these columns from joint dataset\n",
    "df = df.drop(redundant_columns, axis=1, errors='ignore')\n",
    "print(df.shape)"
   ]
  },
  {
   "cell_type": "markdown",
   "metadata": {},
   "source": [
    "2.2 How many features (excluding target variable and train/test indexing columns) are:\n",
    "categorical (more than 2 unique values, no explicit ordering)\n",
    "ordinal (more than 2 unique values, explicit ordering)\n",
    "binary (2 unique values, doesn't matter whether it has ordering or is \"yes/no\" styled) "
   ]
  },
  {
   "cell_type": "code",
   "execution_count": 44,
   "metadata": {},
   "outputs": [
    {
     "name": "stdout",
     "output_type": "stream",
     "text": [
      "categorical: 15\n",
      "ordinal: 1\n",
      "binary: 5\n"
     ]
    }
   ],
   "source": [
    "# your code goes here\n",
    "# ---------------------------------------------------------------\n",
    "binary_cols = sorted(['bruises', 'gill_attachment', 'gill_size', 'gill_spacing', 'stalk_shape'])\n",
    "ordinal_cols = ['ring_number']\n",
    "categorical_cols = sorted(['cap_color',\n",
    " 'cap_shape',\n",
    " 'cap_surface',\n",
    " 'gill_color',\n",
    " 'habitat',\n",
    " 'odor',\n",
    " 'population',\n",
    " 'ring_type',\n",
    " 'spore_print_color',\n",
    " 'stalk_color_above_ring',\n",
    " 'stalk_color_below_ring',\n",
    " 'stalk_root',\n",
    " 'stalk_surface_above_ring',\n",
    " 'stalk_surface_below_ring',\n",
    " 'veil_color',])\n",
    "\n",
    "# ---------------------------------------------------------------\n",
    "print('categorical: {}\\nordinal: {}\\nbinary: {}'.format(\n",
    "    len(categorical_cols), len(ordinal_cols), len(binary_cols)))"
   ]
  },
  {
   "cell_type": "code",
   "execution_count": 46,
   "metadata": {},
   "outputs": [],
   "source": [
    "# To be used in training, data must be properly encoded\n",
    "from collections import defaultdict\n",
    "\n",
    "# function to encode categorical data\n",
    "\n",
    "\n",
    "def __encode_categorical(df_list, cat_cols):\n",
    "    # initialize placeholder\n",
    "    d = defaultdict(LabelEncoder)\n",
    "    # fit and encode train/test,\n",
    "    codes = pd.concat(\n",
    "        [df[cat_cols] for df in df_list],\n",
    "        axis=0\n",
    "    ).fillna('').apply(\n",
    "        lambda x: d[x.name].fit(x)\n",
    "    ),\n",
    "    # transform encodings to train/test etc\n",
    "    for df in df_list:\n",
    "        df[cat_cols] = df[cat_cols].fillna('').apply(\n",
    "            lambda x: d[x.name].transform(x))\n",
    "\n",
    "\n",
    "# label encode data (categorical + binary)\n",
    "__encode_categorical(df_list=[df], cat_cols=categorical_cols+binary_cols)\n",
    "# make sure you encode the only ordinal column in correct order\n",
    "df[ordinal_cols[0]] = df[ordinal_cols[0]].map({'none': 0, 'one': 1, 'two': 2})\n",
    "\n",
    "# define useful feature columns to be used for training\n",
    "# (union of all columns discussed above)\n",
    "columns_to_use = ordinal_cols + binary_cols + categorical_cols"
   ]
  },
  {
   "cell_type": "markdown",
   "metadata": {},
   "source": [
    "# Task 3. Prepare cross-validation strategy and perform comparison of 2 baseline models (linear vs tree-based)"
   ]
  },
  {
   "cell_type": "markdown",
   "metadata": {},
   "source": [
    "Briefly about Validation / Cross-Validation\n",
    "Learning the parameters of a prediction function and testing it on the same data is a methodological mistake: a model that would just repeat the labels of the samples that it has just seen would have a perfect score but would fail to predict anything useful on yet-unseen data. This situation is called overfitting. \n",
    "To avoid it, it is common practice when performing a (supervised) machine learning experiment to hold out part of the available data as a test set X_test, y_test. \n",
    "Note that the word “experiment” is not intended to denote academic use only, because even in commercial settings machine learning usually starts out experimentally.\n",
    "When evaluating different settings (“hyperparameters”) for estimators, there is still a risk of overfitting on the test set because the parameters can be tweaked until the estimator performs optimally. \n",
    "This way, knowledge about the test set can “leak” into the model and evaluation metrics no longer report on generalization performance. \n",
    "To solve this problem, yet another part of the dataset can be held out as a so-called “validation set”: training proceeds on the training set, after which evaluation is done on the validation set, and when the experiment seems to be successful, final evaluation can be done on the test set.\n",
    "However, by partitioning the available data into three sets, we drastically reduce the number of samples which can be used for learning the model, and the results can depend on a particular random choice for the pair of (train, validation) sets.\n",
    "A solution to this problem is a procedure called cross-validation (CV for short). A test set should still be held out for final evaluation, but the validation set is no longer needed when doing CV. In the basic approach, called k-fold CV, the training set is split into k smaller sets (other approaches are described below, but generally follow the same principles). The following procedure is followed for each of the k “folds”:\n",
    "A model is trained using k-1 of the folds as training data;\n",
    "the resulting model is validated on the remaining part of the data \n",
    "(i.e., it is used as a test set to compute a performance measure such as accuracy).\n",
    "\n",
    "The performance measure reported by k-fold cross-validation is then the average of the values computed in the loop. \n",
    "This approach can be computationally expensive, but does not waste too much data (as it is the case when fixing an arbitrary test set), which is a major advantage in problem such as inverse inference where the number of samples is very small.\n",
    "Some classification problems can exhibit a large imbalance in the distribution of the target classes: for instance there could be several times more negative samples than positive samples. \n",
    "In such cases it is recommended to use stratified sampling as implemented in sklearn's StratifiedKFold and StratifiedShuffleSplit to ensure that relative class frequencies is approximately preserved in each train and validation fold.\n",
    "More details about different cross-validation strategies, implemented in sklearn, can be found here"
   ]
  },
  {
   "cell_type": "code",
   "execution_count": 6,
   "metadata": {},
   "outputs": [
    {
     "name": "stdout",
     "output_type": "stream",
     "text": [
      "DT scoring: 0.90\n",
      "LR scoring: 0.89\n"
     ]
    }
   ],
   "source": [
    "from os import cpu_count\n",
    "\n",
    "n_jobs = max(cpu_count()-1, 1)\n",
    "# your code goes here\n",
    "# ---------------------------------------------------------------\n",
    "# cross-validation iterator\n",
    "kf = StratifiedKFold(n_splits = 5, shuffle = True, random_state = 42)\n",
    "# xtrain, ytrain, DataFrame-like\n",
    "xtrain = df.loc[df.is_train, columns_to_use]\n",
    "ytrain = df[df.is_train].loc[:, 'target']\n",
    "# ---------------------------------------------------------------\n",
    "\n",
    "# create Decision Tree with default params, max_depth=3, random_state=42\n",
    "dt = DecisionTreeClassifier(max_depth = 3, random_state = 42)\n",
    "# estimate its f1-score with cross-validation (cross_val_score)\n",
    "# your code goes here\n",
    "# ---------------------------------------------------------------\n",
    "scores_dt = cross_val_score(estimator=dt, X=xtrain, y=ytrain, scoring='f1', cv=kf, n_jobs=-1).mean()\n",
    "print('DT scoring: {:.2f}'.format(scores_dt))\n",
    "# ---------------------------------------------------------------\n",
    "# create Logistic Regression with default params, random_state=42\n",
    "lr = LogisticRegression(random_state = 42)\n",
    "\n",
    "# estimate its f1-score with cross-validation\n",
    "# your code goes here\n",
    "# ---------------------------------------------------------------\n",
    "scores_lr = cross_val_score(estimator=lr, X=xtrain, y=ytrain, scoring='f1', cv=kf, n_jobs=-1).mean()\n",
    "print('LR scoring: {:.2f}'.format(scores_lr))"
   ]
  },
  {
   "cell_type": "markdown",
   "metadata": {},
   "source": [
    "\n",
    "1. Why is a score of Linear Regression lower than correspondent one of DT?\n",
    "2. Is everything OK with the data format for linear models? (revision of 2 previous lectures). \n",
    "3. If not, what else you should do to use the data appropriately for linear models?\n",
    "Why didn't point 1. affect Decision Tree performance?"
   ]
  },
  {
   "cell_type": "markdown",
   "metadata": {},
   "source": [
    "\n",
    "1. Линейная модель показала результат, хуже чем дерево, потому что деревья восстанавливают более сложные закономерности и как следствие могут дают более сложные модели, однако это приводит к переобучению.\n",
    "2. Данные имеют множество категориальных переменных, с которыми линейные модели работают не очень хорошо.\n",
    "3. Алгоритмы на основе деревьев принятия решений хороши тем, что могут обрабатывать различные типы признаков, не требуют масштабирования данных, в отличии от линейных моделей."
   ]
  },
  {
   "cell_type": "markdown",
   "metadata": {},
   "source": [
    "# Task 4. Now it's time to do some hyperparam tuning\n",
    "Perform suitable hyperparam tuning using created above cross-validation strategy \n",
    "Main parameters to perform grid-search for:\n",
    "max_depth (1,2,...None)\n",
    "min_samples_leaf (1,2,...)\n",
    "criterion (gini, entropy)\n",
    "weight (none, balanced)\n",
    "max_features (sqrt(features), 50%, 75%, all of them, ...)\n",
    "other params available, see documentation\n",
    "So - use your fantasy for filling-in abovementioned lists\n",
    "You should receive a gain of 0.01 in f1-score or higher \n",
    "(current benchmark = +0.0268 gain)"
   ]
  },
  {
   "cell_type": "code",
   "execution_count": 8,
   "metadata": {},
   "outputs": [
    {
     "name": "stdout",
     "output_type": "stream",
     "text": [
      "Fitting 5 folds for each of 444528 candidates, totalling 2222640 fits\n"
     ]
    },
    {
     "name": "stderr",
     "output_type": "stream",
     "text": [
      "[Parallel(n_jobs=-1)]: Done  25 tasks      | elapsed:    5.0s\n",
      "[Parallel(n_jobs=-1)]: Done 1031 tasks      | elapsed:    7.6s\n",
      "[Parallel(n_jobs=-1)]: Done 3467 tasks      | elapsed:   13.6s\n",
      "[Parallel(n_jobs=-1)]: Done 6863 tasks      | elapsed:   21.9s\n",
      "[Parallel(n_jobs=-1)]: Done 11243 tasks      | elapsed:   32.5s\n",
      "[Parallel(n_jobs=-1)]: Done 16583 tasks      | elapsed:   45.8s\n",
      "[Parallel(n_jobs=-1)]: Done 22907 tasks      | elapsed:  1.0min\n",
      "[Parallel(n_jobs=-1)]: Done 30191 tasks      | elapsed:  1.4min\n",
      "[Parallel(n_jobs=-1)]: Done 38459 tasks      | elapsed:  1.7min\n",
      "[Parallel(n_jobs=-1)]: Done 47687 tasks      | elapsed:  2.2min\n",
      "[Parallel(n_jobs=-1)]: Done 57899 tasks      | elapsed:  2.6min\n",
      "[Parallel(n_jobs=-1)]: Done 69071 tasks      | elapsed:  3.1min\n",
      "[Parallel(n_jobs=-1)]: Done 81227 tasks      | elapsed:  3.6min\n",
      "[Parallel(n_jobs=-1)]: Done 94343 tasks      | elapsed:  4.2min\n",
      "[Parallel(n_jobs=-1)]: Done 108443 tasks      | elapsed:  4.9min\n",
      "[Parallel(n_jobs=-1)]: Done 123503 tasks      | elapsed:  5.6min\n",
      "[Parallel(n_jobs=-1)]: Done 139547 tasks      | elapsed:  6.3min\n",
      "[Parallel(n_jobs=-1)]: Done 156551 tasks      | elapsed:  7.1min\n",
      "[Parallel(n_jobs=-1)]: Done 174539 tasks      | elapsed:  8.0min\n",
      "[Parallel(n_jobs=-1)]: Done 193487 tasks      | elapsed:  8.9min\n",
      "[Parallel(n_jobs=-1)]: Done 213419 tasks      | elapsed:  9.8min\n",
      "[Parallel(n_jobs=-1)]: Done 234311 tasks      | elapsed: 10.8min\n",
      "[Parallel(n_jobs=-1)]: Done 256187 tasks      | elapsed: 11.9min\n",
      "[Parallel(n_jobs=-1)]: Done 279023 tasks      | elapsed: 13.0min\n",
      "[Parallel(n_jobs=-1)]: Done 302843 tasks      | elapsed: 14.3min\n",
      "[Parallel(n_jobs=-1)]: Done 327623 tasks      | elapsed: 15.5min\n",
      "[Parallel(n_jobs=-1)]: Done 353387 tasks      | elapsed: 16.8min\n",
      "[Parallel(n_jobs=-1)]: Done 380111 tasks      | elapsed: 18.2min\n",
      "[Parallel(n_jobs=-1)]: Done 407819 tasks      | elapsed: 19.6min\n",
      "[Parallel(n_jobs=-1)]: Done 436487 tasks      | elapsed: 21.2min\n",
      "[Parallel(n_jobs=-1)]: Done 466139 tasks      | elapsed: 22.7min\n",
      "[Parallel(n_jobs=-1)]: Done 496751 tasks      | elapsed: 24.5min\n",
      "[Parallel(n_jobs=-1)]: Done 528347 tasks      | elapsed: 26.0min\n",
      "[Parallel(n_jobs=-1)]: Done 560903 tasks      | elapsed: 27.9min\n",
      "[Parallel(n_jobs=-1)]: Done 594443 tasks      | elapsed: 29.3min\n",
      "[Parallel(n_jobs=-1)]: Done 628943 tasks      | elapsed: 30.8min\n",
      "[Parallel(n_jobs=-1)]: Done 664427 tasks      | elapsed: 32.4min\n",
      "[Parallel(n_jobs=-1)]: Done 700871 tasks      | elapsed: 34.1min\n",
      "[Parallel(n_jobs=-1)]: Done 738299 tasks      | elapsed: 35.9min\n",
      "[Parallel(n_jobs=-1)]: Done 776687 tasks      | elapsed: 37.7min\n",
      "[Parallel(n_jobs=-1)]: Done 816059 tasks      | elapsed: 39.7min\n",
      "[Parallel(n_jobs=-1)]: Done 856391 tasks      | elapsed: 41.7min\n",
      "[Parallel(n_jobs=-1)]: Done 897707 tasks      | elapsed: 43.8min\n",
      "[Parallel(n_jobs=-1)]: Done 939983 tasks      | elapsed: 46.0min\n",
      "[Parallel(n_jobs=-1)]: Done 983243 tasks      | elapsed: 48.4min\n",
      "[Parallel(n_jobs=-1)]: Done 1027463 tasks      | elapsed: 50.7min\n",
      "[Parallel(n_jobs=-1)]: Done 1072667 tasks      | elapsed: 53.1min\n",
      "[Parallel(n_jobs=-1)]: Done 1118831 tasks      | elapsed: 55.7min\n",
      "[Parallel(n_jobs=-1)]: Done 1165979 tasks      | elapsed: 57.9min\n",
      "[Parallel(n_jobs=-1)]: Done 1214087 tasks      | elapsed: 60.2min\n",
      "[Parallel(n_jobs=-1)]: Done 1263179 tasks      | elapsed: 62.6min\n",
      "[Parallel(n_jobs=-1)]: Done 1313231 tasks      | elapsed: 65.2min\n",
      "[Parallel(n_jobs=-1)]: Done 1364267 tasks      | elapsed: 68.0min\n",
      "[Parallel(n_jobs=-1)]: Done 1416263 tasks      | elapsed: 70.8min\n",
      "[Parallel(n_jobs=-1)]: Done 1469243 tasks      | elapsed: 73.7min\n",
      "[Parallel(n_jobs=-1)]: Done 1523183 tasks      | elapsed: 76.7min\n",
      "[Parallel(n_jobs=-1)]: Done 1578107 tasks      | elapsed: 79.9min\n",
      "[Parallel(n_jobs=-1)]: Done 1633991 tasks      | elapsed: 83.0min\n",
      "[Parallel(n_jobs=-1)]: Done 1690859 tasks      | elapsed: 86.2min\n",
      "[Parallel(n_jobs=-1)]: Done 1748687 tasks      | elapsed: 88.9min\n",
      "[Parallel(n_jobs=-1)]: Done 1807499 tasks      | elapsed: 91.9min\n",
      "[Parallel(n_jobs=-1)]: Done 1867271 tasks      | elapsed: 95.0min\n",
      "[Parallel(n_jobs=-1)]: Done 1928027 tasks      | elapsed: 98.2min\n",
      "[Parallel(n_jobs=-1)]: Done 1989743 tasks      | elapsed: 101.6min\n",
      "[Parallel(n_jobs=-1)]: Done 2052443 tasks      | elapsed: 105.1min\n",
      "[Parallel(n_jobs=-1)]: Done 2116103 tasks      | elapsed: 108.7min\n",
      "[Parallel(n_jobs=-1)]: Done 2180747 tasks      | elapsed: 112.5min\n",
      "[Parallel(n_jobs=-1)]: Done 2222640 out of 2222640 | elapsed: 115.1min finished\n"
     ]
    },
    {
     "name": "stdout",
     "output_type": "stream",
     "text": [
      "Wall time: 1h 55min 21s\n"
     ]
    }
   ],
   "source": [
    "%%time\n",
    "# your code goes here\n",
    "# ---------------------------------------------------------------\n",
    "# create base model (DT, random state = 42)\n",
    "estimator = DecisionTreeClassifier(random_state = 42)\n",
    "\n",
    "# create parameter grid\n",
    "kf = StratifiedKFold(n_splits = 5, shuffle = True, random_state = 42)\n",
    "X_train = df[df['is_train'] == True].loc[:, :'veil_color']\n",
    "y_train = df[df['is_train'] == True].loc[:, 'target']\n",
    "# create parameter grid\n",
    "max_depth=range(1,12)\n",
    "max_features = range(1,X_train.shape[1])\n",
    "min_samples_leaf= range(1,10)\n",
    "max_leaf_nodes = range(2,10)\n",
    "\n",
    "params = {\n",
    "          'criterion':['gini', 'entropy'],\n",
    "          'class_weight': [None , 'balanced'] ,\n",
    "          'splitter': ['best' , 'random'],\n",
    "          'presort': [True , False],\n",
    "          'max_depth': [ 4,5,6,7 ,8, 10 , 15 , 25 , None], \n",
    "          'min_samples_leaf': [ 1, 2, 3, 4, 5, 6 , 8 , 10 , 15],\n",
    "          'min_samples_split': [2 , 3 , 5 , 7 , 9 , 12 , 15],\n",
    "          'max_leaf_nodes': [10 , 20 , 35 ,  50 , 80 , 100 , None] ,\n",
    "          'max_features': [ 8, 10 ,13 , 15 ,17, 19,  21],\n",
    "         }\n",
    "\n",
    "# create grid search object (without veil_type)\n",
    "gs1 = GridSearchCV(\n",
    "    estimator=estimator,  # base model\n",
    "    param_grid=params,  # params grid to search within\n",
    "    cv=kf,  # cross-validation strategy\n",
    "    error_score=1,  # warnings only\n",
    "    scoring='f1',  # f1-score\n",
    "    # thread count, the higher count - the faster\n",
    "    n_jobs=-1,\n",
    "    verbose=2,  # messages about performed actions\n",
    ")\n",
    "\n",
    "# perform grid search on TRAIN dataset ('is_train' filtering)\n",
    "gs1.fit(X=X_train, y=y_train)"
   ]
  },
  {
   "cell_type": "code",
   "execution_count": 9,
   "metadata": {},
   "outputs": [
    {
     "name": "stdout",
     "output_type": "stream",
     "text": [
      "f1-score best: 0.9283, +0.0271 better than baseline\n"
     ]
    }
   ],
   "source": [
    "# extract best score on cross-validation without veil_type\n",
    "best_score1 = gs1.best_score_\n",
    "# extract the estimator (DT) with best params on cross-validation\n",
    "best_dt1 = gs1.best_estimator_\n",
    "# check gain in f1-score\n",
    "print('f1-score best: {:.4f}, +{:.4f} better than baseline'.format(best_score1, (best_score1 - scores_dt)))"
   ]
  },
  {
   "cell_type": "code",
   "execution_count": 10,
   "metadata": {},
   "outputs": [
    {
     "data": {
      "text/plain": [
       "DecisionTreeClassifier(class_weight=None, criterion='entropy', max_depth=7,\n",
       "            max_features=13, max_leaf_nodes=80, min_impurity_decrease=0.0,\n",
       "            min_impurity_split=None, min_samples_leaf=1,\n",
       "            min_samples_split=7, min_weight_fraction_leaf=0.0,\n",
       "            presort=True, random_state=42, splitter='random')"
      ]
     },
     "execution_count": 10,
     "metadata": {},
     "output_type": "execute_result"
    }
   ],
   "source": [
    "best_dt1"
   ]
  },
  {
   "cell_type": "code",
   "execution_count": 36,
   "metadata": {},
   "outputs": [
    {
     "name": "stdout",
     "output_type": "stream",
     "text": [
      "Base on train:   0.9012\n",
      "Base on holdout: 0.8888\n",
      "diff: 0.0125\n",
      "\n",
      "Best on train:   0.9283\n",
      "Best on holdout: 0.9205\n",
      "diff: 0.0078\n"
     ]
    }
   ],
   "source": [
    "# check performance on holdout dataset, unseen before (filter 'is_train' == False)\n",
    "\n",
    "# your code goes here\n",
    "# ---------------------------------------------------------------\n",
    "# appropriate df_test data subset from 'df' dataframe\n",
    "xtest = df[df['is_train'] == False].loc[:, :'veil_color']\n",
    "#xtest1 = df[df['is_train'] == False].loc[:, :'veil_color']# ...\n",
    "# fit baseline model 'dt' on xtrain, ytrain (because it's not fitted yet)\n",
    "dt.fit(xtrain, ytrain)\n",
    "# ---------------------------------------------------------------\n",
    "DATA_DIR = 'data'\n",
    "# baseline model\n",
    "y_true = pd.read_csv('E:\\\\PycharmProjects\\\\Machine_L\\\\Data_Science_Club\\\\third_\\\\4-mushrooms-y_test.csv')\n",
    "y_pred_baseline = dt.predict(xtest)\n",
    "\n",
    "print('Base on train:   {:.4f}\\nBase on holdout: {:.4f}\\ndiff: {:.4f}'.format(scores_dt, f1_score(y_true, y_pred_baseline),\n",
    "    scores_dt - f1_score(y_true, y_pred_baseline)))\n",
    "\n",
    "# best model\n",
    "y_pred_best = best_dt1.predict(xtest)\n",
    "\n",
    "print('\\nBest on train:   {:.4f}\\nBest on holdout: {:.4f}\\ndiff: {:.4f}'.format(\n",
    "    best_score1, \n",
    "    f1_score(y_true, y_pred_best),\n",
    "    best_score1 - f1_score(y_true, y_pred_best)\n",
    "))"
   ]
  },
  {
   "cell_type": "markdown",
   "metadata": {},
   "source": [
    "Now you can see that \n",
    "absolute values of f1-score is higher and distance between train|holdout is lower \n",
    "for best model in comparison to baseline\n",
    "\n",
    "Bonus question:\n",
    "Consider two possibilities:\n",
    "(a) you have trained one best (on cross-validation) Decision Tree\n",
    "(b) you randomly choose 25 subsets of 70% of training data, fits \"overfitted\" (max_depth=None) Decision Trees on it - each of them performs slightly worse than Tree in (a), and then average predicted results over all 25 models (overfitted trees)\n",
    "Which one of them would most likely give the best results on hold-out dataset? What makes you think that way?"
   ]
  },
  {
   "cell_type": "markdown",
   "metadata": {},
   "source": [
    "Второй вариант (b) сработает гораздо лучше. В этом случае будет использоваться ансамбли деревьев (RandomForest or GradientBoosting), которые показывают гораздо лучшие результаты по сравнению с деревьями. Также ансамбли деревьев, как правило, имеют лучшую обобщающую способность и поэтому менее склонны к переобучению, нежели деревья принятия решений."
   ]
  },
  {
   "cell_type": "code",
   "execution_count": null,
   "metadata": {},
   "outputs": [],
   "source": []
  }
 ],
 "metadata": {
  "kernelspec": {
   "display_name": "Python 3",
   "language": "python",
   "name": "python3"
  },
  "language_info": {
   "codemirror_mode": {
    "name": "ipython",
    "version": 3
   },
   "file_extension": ".py",
   "mimetype": "text/x-python",
   "name": "python",
   "nbconvert_exporter": "python",
   "pygments_lexer": "ipython3",
   "version": "3.6.4"
  }
 },
 "nbformat": 4,
 "nbformat_minor": 2
}
